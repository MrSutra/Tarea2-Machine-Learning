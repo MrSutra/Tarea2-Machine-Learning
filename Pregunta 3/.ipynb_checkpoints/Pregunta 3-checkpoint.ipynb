{
 "cells": [
  {
   "cell_type": "markdown",
   "metadata": {},
   "source": [
    "<center>\n",
    "    <h1> INF393 - Maquinas de Aprendizaje  </h1>\n",
    "    <h2> Tarea 2: Métodos Lineales para Clasificación </h2>\n",
    "    <h5> Alumnos: Ignacio Espinoza & Daniel Rivera</h5>\n",
    "</center>\n",
    "\n",
    " "
   ]
  },
  {
   "cell_type": "markdown",
   "metadata": {},
   "source": [
    "<h2>Python: Dependencias</h2>\n"
   ]
  },
  {
   "cell_type": "code",
   "execution_count": 1,
   "metadata": {
    "collapsed": false
   },
   "outputs": [
    {
     "name": "stderr",
     "output_type": "stream",
     "text": [
      "/home/nacho/.local/lib/python2.7/site-packages/sklearn/lda.py:4: DeprecationWarning: lda.LDA has been moved to discriminant_analysis.LinearDiscriminantAnalysis in 0.17 and will be removed in 0.19\n",
      "  \"in 0.17 and will be removed in 0.19\", DeprecationWarning)\n",
      "/home/nacho/.local/lib/python2.7/site-packages/sklearn/qda.py:4: DeprecationWarning: qda.QDA has been moved to discriminant_analysis.QuadraticDiscriminantAnalysis in 0.17 and will be removed in 0.19.\n",
      "  \"in 0.17 and will be removed in 0.19.\", DeprecationWarning)\n"
     ]
    }
   ],
   "source": [
    "%matplotlib inline\n",
    "import urllib\n",
    "import pandas as pd\n",
    "from sklearn.preprocessing import StandardScaler\n",
    "from sklearn.neighbors import KNeighborsClassifier\n",
    "from sklearn.decomposition import PCA\n",
    "from sklearn.dummy import DummyClassifier\n",
    "from sklearn.lda import LDA\n",
    "from sklearn.qda import QDA\n",
    "from matplotlib import pyplot as plt\n",
    "import seaborn as sns\n",
    "import numpy as np\n",
    "import scipy\n",
    "\n",
    "\n",
    "train_data_url = \"http://statweb.stanford.edu/~tibs/ElemStatLearn/datasets/vowel.train\"\n",
    "test_data_url = \"http://statweb.stanford.edu/~tibs/ElemStatLearn/datasets/vowel.test\"\n"
   ]
  },
  {
   "cell_type": "markdown",
   "metadata": {},
   "source": [
    "<h2> PARTE 3:  Skill Prediction en LinkedIN </h2>"
   ]
  },
  {
   "cell_type": "markdown",
   "metadata": {},
   "source": [
    "\n",
    "\n"
   ]
  },
  {
   "cell_type": "markdown",
   "metadata": {},
   "source": [
    "<h5> (a) Defina una función que lea el primer archivo y genere una matriz dispersa $Z$, de forma $n × d$ donde $n$ es el número de perfiles de LinkedIn  y $d$ es el número de competencias totales. </h5>\n"
   ]
  },
  {
   "cell_type": "code",
   "execution_count": 2,
   "metadata": {
    "collapsed": false
   },
   "outputs": [
    {
     "name": "stdout",
     "output_type": "stream",
     "text": [
      "..creating sparse matrix...\n",
      "...creating csr sparse matrix...\n",
      "...sparse matrix finished...\n",
      "[[ 1.  1.  1. ...,  0.  0.  0.]\n",
      " [ 0.  1.  0. ...,  0.  0.  0.]\n",
      " [ 0.  1.  0. ...,  0.  0.  0.]\n",
      " ..., \n",
      " [ 0.  0.  0. ...,  0.  0.  1.]\n",
      " [ 0.  0.  0. ...,  0.  0.  0.]\n",
      " [ 0.  0.  0. ...,  0.  0.  0.]]\n"
     ]
    }
   ],
   "source": [
    "from scipy.sparse import csr_matrix\n",
    "\n",
    "def get_sparse_matrix(file_name):\n",
    "   user_skill = open(file_name, 'r')\n",
    "\n",
    "   print(\"..creating sparse matrix...\")\n",
    "   sparse_matrix = np.zeros((7890,14544))\n",
    "\n",
    "   for line in user_skill:\n",
    "      line = line.split(':')\n",
    "      user = int(line[0]) \n",
    "      skills = line[1].split(',')\n",
    "      for skill in skills:\n",
    "         sparse_matrix[user][int(skill)] = 1 \n",
    "\n",
    "   user_skill.close()\n",
    "   print(\"...creating csr sparse matrix...\")\n",
    "   #MemoryError :(\n",
    "   #csr_sparse_matrix = csr_matrix(sparse_matrix)\n",
    "   print(\"...sparse matrix finished...\")\n",
    "   return sparse_matrix\n",
    "\n",
    "sparse_matrix = get_sparse_matrix('user_skill')\n",
    "print sparse_matrix "
   ]
  },
  {
   "cell_type": "markdown",
   "metadata": {},
   "source": [
    "<h5>(b) Construya sub-matrices de entrenamiento y prueba. Los conjuntos de entrenamiento y pruebas deben ser disjuntos y además $n_tr + n_ts = n$. Elija aleatoriamente\n",
    "los casos de entrenamiento y pruebas, permutando por ejemplo las filas de $X$ antes de la selección. </h5>\n",
    "<p> El criterio de partición es seleccionar un 70% del dataset como un set de entrenamiento y el 30% restante como set de pruebas. Es importante observar que dado que hay un orden aleatorio de los datos previo, es probable que en uno de los set de entreneamiento un skill quede sin usuario que lo reclame. Esto puede traer consecuencias en el desempeño de ciertos algoritmos de clasificación </p>"
   ]
  },
  {
   "cell_type": "code",
   "execution_count": 3,
   "metadata": {
    "collapsed": true
   },
   "outputs": [],
   "source": [
    "def get_training_testing_set(sparse_matrix):\n",
    "   #np.random.shuffle(sparse_matrix)\n",
    "\n",
    "   training_set = sparse_matrix[:5523][:]\n",
    "   \n",
    "   testing_set =  sparse_matrix[5523:][:]\n",
    "\n",
    "   return training_set, testing_set"
   ]
  },
  {
   "cell_type": "markdown",
   "metadata": {},
   "source": [
    "<h5>(c) Construya un gráfico que muestre el número de usuarios que declaran cada competencia. Deberá elegir\n",
    "un tipo de gráfico apropiado que haga completamente legible la información que se desea obtener.</h5>"
   ]
  },
  {
   "cell_type": "code",
   "execution_count": 4,
   "metadata": {
    "collapsed": false
   },
   "outputs": [
    {
     "data": {
      "image/png": "[encoded data removed]",
      "text/plain": [
       "<matplotlib.figure.Figure at 0x7f13ec221890>"
      ]
     },
     "metadata": {},
     "output_type": "display_data"
    }
   ],
   "source": [
    "def get_skill_dictionary(file_name):\n",
    "\n",
    "   skill_dict = {}\n",
    "   skill_id_file = open(file_name, 'r')\n",
    "\n",
    "   for line in skill_id_file:\n",
    "      line = line.split(':')\n",
    "      skill_name = str(line[0]).decode(\"utf-8\")\n",
    "      skill_id = str(line[1]).decode(\"utf-8\")\n",
    "      skill_dict[skill_id] = skill_name\n",
    "\n",
    "   skill_id_file.close()\n",
    "   \n",
    "   return skill_dict\n",
    "\n",
    "def plot_skills(sparse_matrix, minimum):\n",
    "\n",
    "   skill_id = get_skill_dictionary('skill_id')\n",
    "   skills_y = np.sum(sparse_matrix , axis = 0)\n",
    "   skills_x = np.arange(14544)\n",
    "   count = 0\n",
    "\n",
    "   y = []\n",
    "   x = []\n",
    "   labels = []\n",
    "\n",
    "   for i in range(14544):\n",
    "      if skills_y[i] >= minimum:\n",
    "         count += 1\n",
    "         labels.append(skill_id[str(skills_x[i]) +'\\n'].encode(\"utf-8\"))\n",
    "         y.append(skills_y[i])\n",
    "\n",
    "   x = np.arange(count)     \n",
    "   plt.barh(x, y,color=\"#4CAF50\")\n",
    "   for l in range(0,len(labels)):\n",
    "      labels[l] = labels[l].decode(\"utf-8\")\n",
    "   \n",
    "   labels[8] = \"Informática Industrial\".decode(\"utf-8\")\n",
    "\n",
    "   plt.yticks(x, labels, rotation = 'horizontal')\n",
    "   plt.title(\"Top \" + str(count) +\"-Skills\",fontsize=22)\n",
    "   plt.xlabel(\"Skill Frequency\",fontsize= 16)\n",
    "   plt.ylabel(\"Skill Name\",fontsize= 16)\n",
    "   plt.show()\n",
    "\n",
    "plot_skills(sparse_matrix, 1650)"
   ]
  },
  {
   "cell_type": "markdown",
   "metadata": {},
   "source": [
    "<img src=\"top50_skills.png\">"
   ]
  },
  {
   "cell_type": "markdown",
   "metadata": {},
   "source": [
    "<p>Para la creación de estos gráficos se siguieron los siguientes criterios: La base de datos revela que hay mas de 10000 skills con una frecuencia menor a 50 , por lo que se decide descartar la mayoria de estos skills para gráficar, dado que se buscan las aptitudes mas releantes.Tambien se observa que el archivo posee unos skills que no están bien procesados, tales como:</p>\n",
    "\n",
    "$Python data-recipient-ID=\"398986940\"><span class=\"skill-pill\"><span class=\"endorse-count\"><span class=\"num-endorsements\" data-count=\"0\">0</span></span><span :562$\n",
    "\n",
    "<p> Estos nombres de skills no revelan suficiente información y aparecen con una frecuencia a veces inferior a 5. Esto es tambien un criterio para eliminar o descartar </p>\n",
    "\n",
    "<p> Como se observa tanto en el gráfico de barra de los top-10 y el wordcloud generado a continuación, la mayoria de los tags mas frecuentse están relacionados con el área industrial o del área de gestión. Con menor frecuencia en segundo lugar le siguen áreas mas técnicas del área de informatica, tales como javascript, PHP, SQL, etc.</p>"
   ]
  },
  {
   "cell_type": "code",
   "execution_count": 7,
   "metadata": {
    "collapsed": false
   },
   "outputs": [],
   "source": [
    "from pytagcloud import create_tag_image, make_tags\n",
    "from pytagcloud.lang.counter import get_tag_counts\n",
    "from pytagcloud.colors import COLOR_SCHEMES\n",
    "\n",
    "def get_word_cloud(sparse_matrix):\n",
    "   skill_id = get_skill_dictionary('skill_id')\n",
    "   skills_y = np.sum( sparse_matrix , axis = 0)\n",
    "   skills_x = np.arange(14544)\n",
    "   count = 0\n",
    "\n",
    "   y = []\n",
    "   x = []\n",
    "   labels = []\n",
    "   for i in range(14544):\n",
    "      if skills_y[i] >=  1500 :\n",
    "         count += 1\n",
    "         labels.append(skill_id[str(skills_x[i]) +'\\n'].encode(\"utf-8\"))\n",
    "         y.append(skills_y[i])\n",
    "\n",
    "   x = np.arange(count)     \n",
    "   \n",
    "   for l in range(0,len(labels)):\n",
    "      labels[l] = labels[l].decode(\"utf-8\")\n",
    "\n",
    "   text = \"\"\n",
    "\n",
    "   for i in range(0,len(labels)):\n",
    "      label = labels[i].replace(\"Microsoft\",\"\",1)\n",
    "      label = label.title().replace(\" \",\"\") + \" \"\n",
    "      text = text +  label*int(y[i]) + \" \"\n",
    "\n",
    "   tags = make_tags(get_tag_counts(text), maxsize = 60, colors = COLOR_SCHEMES['audacity'])\n",
    " \n",
    "   create_tag_image(tags, 'cloud_large.png', size = (1400,1200), background=(0, 0, 0, 255))\n",
    "\n",
    "#get_word_cloud(sparse_matrix)"
   ]
  },
  {
   "cell_type": "markdown",
   "metadata": {},
   "source": [
    "<img src=\"cloud_large2.png\"/>"
   ]
  },
  {
   "cell_type": "markdown",
   "metadata": {},
   "source": [
    "<h5>(d) Elija una competencia $j ∈ {1, . . . , d}$ (por ejemplo PHP ). Su objetivo será predecir la existencia de esta competencia en un perfil a partir de las demás competencias declaradas por el usuario</h5>"
   ]
  },
  {
   "cell_type": "code",
   "execution_count": 11,
   "metadata": {
    "collapsed": false
   },
   "outputs": [],
   "source": [
    "def create_training_dataset(training_set,index):\n",
    "\n",
    "   y = training_set[:,index]\n",
    "   X_std_train = StandardScaler().fit_transform(training_set)\n",
    "   X_std_train = np.delete(training_set,index,1)\n",
    "\n",
    "   return X_std_train,y\n",
    "\n",
    "def create_test_dataset(testing_set,index):\n",
    "\n",
    "   y_test = testing_set[:,index]\n",
    "   X_std_test = StandardScaler().fit_transform(testing_set)\n",
    "   X_std_test = np.delete(testing_set,index,1)\n",
    "\n",
    "   return X_std_test,y_test\n",
    "\n",
    "training_set, testing_set = get_training_testing_set(sparse_matrix)\n",
    "#Prevent Memory Error\n",
    "#training_set = training_set[:2500][:]\n",
    "#testing_set = testing_set[:2200][:]\n",
    "#Prevent Memory Error\n",
    "X_std_train, y_train = create_training_dataset(training_set,55)\n",
    "X_std_test, y_test = create_test_dataset(testing_set,55)\n"
   ]
  },
  {
   "cell_type": "code",
   "execution_count": 9,
   "metadata": {
    "collapsed": true
   },
   "outputs": [],
   "source": [
    "from sklearn.neighbors import KNeighborsClassifier\n",
    "from sklearn.naive_bayes import BernoulliNB\n",
    "from sklearn.svm import LinearSVC\n",
    "from sklearn.naive_bayes import MultinomialNB\n",
    "from sklearn.linear_model import LogisticRegression\n",
    "\n",
    "from sklearn.metrics import classification_report\n",
    "\n"
   ]
  },
  {
   "cell_type": "markdown",
   "metadata": {},
   "source": [
    "<p>Para este análisis se usó el skill $SQL$ como la columna que será analizada. La razón principal es debido que es pertenciente al top 10 de frecuencia, y se estima que los resultados serán óptimos. Los algoritmos implementados fueron: <b>MultinomialNB, BernoulliNB, LinearSVC, LogisticRegression y KN Classifier.  </b> </p>\n",
    "\n",
    "<b>Importante: </b> Dada las limitaciones del pc con el cual se implementaron estos algoritmos, se redujo el dataset de entrenamiento y de prueba para lograr visualizar los resultados y no tener errores de memoria. "
   ]
  },
  {
   "cell_type": "code",
   "execution_count": 12,
   "metadata": {
    "collapsed": false
   },
   "outputs": [
    {
     "name": "stdout",
     "output_type": "stream",
     "text": [
      "SCORE: 0.836079425433\n",
      "             precision    recall  f1-score   support\n",
      "\n",
      "          0       0.94      0.89      0.91      4300\n",
      "          1       0.67      0.79      0.72      1223\n",
      "\n",
      "avg / total       0.88      0.87      0.87      5523\n",
      "\n"
     ]
    }
   ],
   "source": [
    "def get_MultinomialNB_performance(X_std_train,y_train,X_std_test,y_test):\n",
    "    multinomial_model = MultinomialNB()\n",
    "    multinomial_model.fit(X_std_train, y_train)\n",
    "    print \"SCORE: \" + str(multinomial_model.score(X_std_test,y_test))\n",
    "    print classification_report(y_train, multinomial_model.predict(X_std_train), target_names=['0','1'])\n",
    "\n",
    "get_MultinomialNB_performance(X_std_train,y_train,X_std_test,y_test)"
   ]
  },
  {
   "cell_type": "code",
   "execution_count": 13,
   "metadata": {
    "collapsed": false
   },
   "outputs": [
    {
     "name": "stdout",
     "output_type": "stream",
     "text": [
      "SCORE: 0.841571609632\n",
      "             precision    recall  f1-score   support\n",
      "\n",
      "          0       0.91      0.92      0.91      4300\n",
      "          1       0.70      0.68      0.69      1223\n",
      "\n",
      "avg / total       0.86      0.87      0.87      5523\n",
      "\n"
     ]
    }
   ],
   "source": [
    "def get_BernoulliNB_performance(X_std_train,y_train,X_std_test,y_test):\n",
    "    bernoulli_model = BernoulliNB()\n",
    "    bernoulli_model.fit(X_std_train , y_train)\n",
    "    print \"SCORE: \" + str(bernoulli_model.score(X_std_test,y_test))\n",
    "    print classification_report(y_train, bernoulli_model.predict(X_std_train), target_names=['0','1'])\n",
    "\n",
    "\n",
    "get_BernoulliNB_performance(X_std_train,y_train,X_std_test,y_test)"
   ]
  },
  {
   "cell_type": "code",
   "execution_count": 14,
   "metadata": {
    "collapsed": false
   },
   "outputs": [
    {
     "name": "stdout",
     "output_type": "stream",
     "text": [
      "SCORE: 0.881284326151\n",
      "             precision    recall  f1-score   support\n",
      "\n",
      "          0       0.97      0.98      0.98      4300\n",
      "          1       0.94      0.88      0.91      1223\n",
      "\n",
      "avg / total       0.96      0.96      0.96      5523\n",
      "\n"
     ]
    }
   ],
   "source": [
    "def get_LogisticRegression_performance(X_std_train,y_train,X_std_test,y_test):\n",
    "    logistic_model = LogisticRegression()\n",
    "    logistic_model.fit(X_std_train , y_train)\n",
    "    print \"SCORE: \" + str(logistic_model.score(X_std_test,y_test))\n",
    "    print classification_report(y_train, logistic_model.predict(X_std_train), target_names=['0','1'])\n",
    "\n",
    "\n",
    "get_LogisticRegression_performance(X_std_train,y_train,X_std_test,y_test)"
   ]
  },
  {
   "cell_type": "code",
   "execution_count": 15,
   "metadata": {
    "collapsed": false
   },
   "outputs": [
    {
     "name": "stdout",
     "output_type": "stream",
     "text": [
      "SCORE: 0.855935783692\n",
      "             precision    recall  f1-score   support\n",
      "\n",
      "          0       0.99      0.99      0.99      4300\n",
      "          1       0.98      0.96      0.97      1223\n",
      "\n",
      "avg / total       0.99      0.99      0.99      5523\n",
      "\n"
     ]
    }
   ],
   "source": [
    "def get_LinearSVD_performance(X_std_train,y_train,X_std_test,y_test):\n",
    "    linearsvd_model = LinearSVC()\n",
    "    linearsvd_model.fit(X_std_train , y_train)\n",
    "    print \"SCORE: \" + str(linearsvd_model.score(X_std_test,y_test))\n",
    "    print classification_report(y_train, linearsvd_model.predict(X_std_train), target_names=['0','1'])\n",
    "\n",
    "\n",
    "get_LinearSVD_performance(X_std_train,y_train,X_std_test,y_test)"
   ]
  },
  {
   "cell_type": "code",
   "execution_count": 16,
   "metadata": {
    "collapsed": false
   },
   "outputs": [
    {
     "name": "stdout",
     "output_type": "stream",
     "text": [
      "SCORE: 0.837769328264\n",
      "             precision    recall  f1-score   support\n",
      "\n",
      "          0       0.89      0.97      0.93      4300\n",
      "          1       0.83      0.60      0.69      1223\n",
      "\n",
      "avg / total       0.88      0.88      0.88      5523\n",
      "\n"
     ]
    }
   ],
   "source": [
    "def get_KNeighborsClassifier_performance(X_std_train,y_train,X_std_test,y_test):\n",
    "    knc_model = KNeighborsClassifier()\n",
    "    knc_model.fit(X_std_train , y_train)\n",
    "    print \"SCORE: \" + str(knc_model.score(X_std_test,y_test))\n",
    "    print classification_report(y_train, knc_model.predict(X_std_train), target_names=['0','1'])\n",
    "\n",
    "\n",
    "get_KNeighborsClassifier_performance(X_std_train,y_train,X_std_test,y_test)"
   ]
  },
  {
   "cell_type": "markdown",
   "metadata": {
    "collapsed": true
   },
   "source": [
    "<h1> Otro Skill: Javascript </h1>"
   ]
  },
  {
   "cell_type": "code",
   "execution_count": 17,
   "metadata": {
    "collapsed": false
   },
   "outputs": [
    {
     "name": "stdout",
     "output_type": "stream",
     "text": [
      "SCORE: 0.982678495986\n",
      "             precision    recall  f1-score   support\n",
      "\n",
      "          0       1.00      0.99      1.00      5519\n",
      "          1       0.00      0.00      0.00         4\n",
      "\n",
      "avg / total       1.00      0.99      1.00      5523\n",
      "\n",
      "SCORE: 1.0\n"
     ]
    },
    {
     "name": "stderr",
     "output_type": "stream",
     "text": [
      "/home/nacho/.local/lib/python2.7/site-packages/sklearn/metrics/classification.py:1074: UndefinedMetricWarning: Precision and F-score are ill-defined and being set to 0.0 in labels with no predicted samples.\n",
      "  'precision', 'predicted', average, warn_for)\n"
     ]
    },
    {
     "name": "stdout",
     "output_type": "stream",
     "text": [
      "             precision    recall  f1-score   support\n",
      "\n",
      "          0       1.00      1.00      1.00      5519\n",
      "          1       0.00      0.00      0.00         4\n",
      "\n",
      "avg / total       1.00      1.00      1.00      5523\n",
      "\n",
      "SCORE: 1.0\n",
      "             precision    recall  f1-score   support\n",
      "\n",
      "          0       1.00      1.00      1.00      5519\n",
      "          1       1.00      0.75      0.86         4\n",
      "\n",
      "avg / total       1.00      1.00      1.00      5523\n",
      "\n",
      "SCORE: 1.0\n",
      "             precision    recall  f1-score   support\n",
      "\n",
      "          0       1.00      1.00      1.00      5519\n",
      "          1       1.00      1.00      1.00         4\n",
      "\n",
      "avg / total       1.00      1.00      1.00      5523\n",
      "\n"
     ]
    }
   ],
   "source": [
    "X_std_train, y_train = create_training_dataset(training_set,1835)\n",
    "X_std_test, y_test = create_test_dataset(testing_set,1835)\n",
    "\n",
    "get_MultinomialNB_performance(X_std_train,y_train,X_std_test,y_test)\n",
    "\n",
    "get_BernoulliNB_performance(X_std_train,y_train,X_std_test,y_test)\n",
    "\n",
    "get_LogisticRegression_performance(X_std_train,y_train,X_std_test,y_test)\n",
    "\n",
    "get_LinearSVD_performance(X_std_train,y_train,X_std_test,y_test)\n",
    "\n",
    "#get_KNeighborsClassifier_performance(X_std_train,y_train,X_std_test,y_test)"
   ]
  }
 ],
 "metadata": {
  "kernelspec": {
   "display_name": "Python 2",
   "language": "python",
   "name": "python2"
  },
  "language_info": {
   "codemirror_mode": {
    "name": "ipython",
    "version": 2
   },
   "file_extension": ".py",
   "mimetype": "text/x-python",
   "name": "python",
   "nbconvert_exporter": "python",
   "pygments_lexer": "ipython2",
   "version": "2.7.12"
  }
 },
 "nbformat": 4,
 "nbformat_minor": 1
}
